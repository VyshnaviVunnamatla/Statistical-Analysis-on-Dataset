{
 "cells": [
  {
   "cell_type": "markdown",
   "id": "c2c49cd4-ba37-4dbf-afee-352664a683c2",
   "metadata": {},
   "source": [
    "MASTERING STATISTICAL ANALYSIS IN PYTHON WITH REAL-WORLD DATASETS"
   ]
  },
  {
   "cell_type": "markdown",
   "id": "3019a35f-b3c5-4301-88b0-ae9241c7fdbd",
   "metadata": {},
   "source": [
    "LOADING THE DATASET"
   ]
  },
  {
   "cell_type": "markdown",
   "id": "35f4954b-8da9-4115-93d7-bf8739fa1968",
   "metadata": {},
   "source": [
    "First, you need to load the dataset into a pandas DataFrame"
   ]
  },
  {
   "cell_type": "code",
   "execution_count": 1,
   "id": "8e36c17d-1ccd-4f33-af67-dacdba52448a",
   "metadata": {},
   "outputs": [
    {
     "name": "stdout",
     "output_type": "stream",
     "text": [
      "       Country  Year      Status  Life expectancy   Adult Mortality  \\\n",
      "0  Afghanistan  2015  Developing              65.0            263.0   \n",
      "1  Afghanistan  2014  Developing              59.9            271.0   \n",
      "2  Afghanistan  2013  Developing              59.9            268.0   \n",
      "3  Afghanistan  2012  Developing              59.5            272.0   \n",
      "4  Afghanistan  2011  Developing              59.2            275.0   \n",
      "\n",
      "   infant deaths  Alcohol  percentage expenditure  Hepatitis B  Measles   ...  \\\n",
      "0             62     0.01               71.279624         65.0      1154  ...   \n",
      "1             64     0.01               73.523582         62.0       492  ...   \n",
      "2             66     0.01               73.219243         64.0       430  ...   \n",
      "3             69     0.01               78.184215         67.0      2787  ...   \n",
      "4             71     0.01                7.097109         68.0      3013  ...   \n",
      "\n",
      "   Polio  Total expenditure  Diphtheria    HIV/AIDS         GDP  Population  \\\n",
      "0    6.0               8.16         65.0        0.1  584.259210  33736494.0   \n",
      "1   58.0               8.18         62.0        0.1  612.696514    327582.0   \n",
      "2   62.0               8.13         64.0        0.1  631.744976  31731688.0   \n",
      "3   67.0               8.52         67.0        0.1  669.959000   3696958.0   \n",
      "4   68.0               7.87         68.0        0.1   63.537231   2978599.0   \n",
      "\n",
      "    thinness  1-19 years   thinness 5-9 years  \\\n",
      "0                   17.2                 17.3   \n",
      "1                   17.5                 17.5   \n",
      "2                   17.7                 17.7   \n",
      "3                   17.9                 18.0   \n",
      "4                   18.2                 18.2   \n",
      "\n",
      "   Income composition of resources  Schooling  \n",
      "0                            0.479       10.1  \n",
      "1                            0.476       10.0  \n",
      "2                            0.470        9.9  \n",
      "3                            0.463        9.8  \n",
      "4                            0.454        9.5  \n",
      "\n",
      "[5 rows x 22 columns]\n"
     ]
    }
   ],
   "source": [
    "import pandas as pd\n",
    "\n",
    "df=pd.read_csv(\"Life Expectancy Data.csv\")\n",
    "print(df.head())"
   ]
  },
  {
   "cell_type": "markdown",
   "id": "92f022f0-fda2-43dd-8293-f77f32d26d12",
   "metadata": {},
   "source": [
    "PERFORMING DESCRIPTIVE STATISTICS"
   ]
  },
  {
   "cell_type": "markdown",
   "id": "64ed771d-61cd-4c3e-b597-24ced6905caa",
   "metadata": {},
   "source": [
    "Calculate the mean, median, mode, standard deviation, and variance. Let’s assume we want to perform these calculations on a feature like DelayMinutes."
   ]
  },
  {
   "cell_type": "code",
   "execution_count": 8,
   "id": "5e9ff7c7-3b12-465d-8663-898832aeb30e",
   "metadata": {},
   "outputs": [
    {
     "name": "stdout",
     "output_type": "stream",
     "text": [
      "Mean: 69.22493169398908\n",
      "Median: 72.1\n",
      "Mode: 73.0\n",
      "Standard Deviation: 9.523867487824301\n",
      "Variance: 90.70405192563676\n"
     ]
    }
   ],
   "source": [
    "target='Life expectancy '\n",
    "\n",
    "#basic descriptive statistics\n",
    "mean = df[target].mean()\n",
    "median = df[target].median()\n",
    "mode = df[target].mode()[0]\n",
    "std_dev = df[target].std()\n",
    "variance = df[target].var()\n",
    "\n",
    "print(f\"Mean: {mean}\")\n",
    "print(f\"Median: {median}\")\n",
    "print(f\"Mode: {mode}\")\n",
    "print(f\"Standard Deviation: {std_dev}\")\n",
    "print(f\"Variance: {variance}\")"
   ]
  },
  {
   "cell_type": "code",
   "execution_count": 9,
   "id": "cfbcf658-999a-4690-be9c-ed47b29e4cd2",
   "metadata": {},
   "outputs": [
    {
     "name": "stdout",
     "output_type": "stream",
     "text": [
      "\n",
      "Range:\n",
      " 52.7\n",
      "\n",
      "Skewness:\n",
      " -0.6386047358773552\n",
      "\n",
      "Kurtosis:\n",
      " -0.23447739417967428\n"
     ]
    }
   ],
   "source": [
    "#additional descriptive statistics\n",
    "print(\"\\nRange:\\n\", df[target].max() - df[target].min())\n",
    "print(\"\\nSkewness:\\n\", df[target].skew())\n",
    "print(\"\\nKurtosis:\\n\", df[target].kurt())"
   ]
  },
  {
   "cell_type": "markdown",
   "id": "7bad8521-6b7f-454e-a601-6dba94da7bf0",
   "metadata": {},
   "source": [
    "PERFORMING INFERENTIAL STATISTICS"
   ]
  },
  {
   "cell_type": "markdown",
   "id": "af4a7c7b-e749-46b5-ac70-6860497886f1",
   "metadata": {},
   "source": [
    "To determine if the life expectancy is significantly different from a chosen value, you can use a one-sample t-test. Here’s how you can perform the test:"
   ]
  },
  {
   "cell_type": "code",
   "execution_count": 12,
   "id": "e4cb6caa-d5f9-4063-ac10-4076877bb94f",
   "metadata": {},
   "outputs": [
    {
     "name": "stdout",
     "output_type": "stream",
     "text": [
      "T-Statistic: -4.40364367324774\n",
      "P-Value: 1.1026360146400394e-05\n"
     ]
    }
   ],
   "source": [
    "from scipy import stats\n",
    "\n",
    "# Specify the chosen value (e.g., 70 years)\n",
    "chosen_value = 70\n",
    "\n",
    "# Perform a one-sample t-test\n",
    "t_stat, p_value = stats.ttest_1samp(df['Life expectancy '].dropna(), chosen_value)\n",
    "\n",
    "print(f\"T-Statistic: {t_stat}\")\n",
    "print(f\"P-Value: {p_value}\")"
   ]
  },
  {
   "cell_type": "markdown",
   "id": "0134c043-bfb2-4351-b6d5-9cc1ebbdde9d",
   "metadata": {},
   "source": [
    "CONFIDENCE INTERVALS"
   ]
  },
  {
   "cell_type": "markdown",
   "id": "da636f65-9dff-4563-a31b-22c4de04fc50",
   "metadata": {},
   "source": [
    "To compute a 95% confidence interval for the mean of the selected feature:"
   ]
  },
  {
   "cell_type": "code",
   "execution_count": 14,
   "id": "fbe5af4c-79fe-48b2-bd04-5bb2362bd926",
   "metadata": {},
   "outputs": [
    {
     "name": "stdout",
     "output_type": "stream",
     "text": [
      "95% Confidence Interval for Life Expectancy: (68.87982329969054, 69.57004008828761)\n"
     ]
    }
   ],
   "source": [
    "import numpy as np\n",
    "\n",
    "# Confidence interval calculation\n",
    "mean_life_expectancy = np.mean(df['Life expectancy '])\n",
    "std_life_expectancy = np.std(df['Life expectancy '], ddof=1)\n",
    "n = len(df['Life expectancy '].dropna())\n",
    "\n",
    "# 95% confidence interval\n",
    "confidence_interval = stats.t.interval(0.95, n-1, loc=mean_life_expectancy, scale=std_life_expectancy/np.sqrt(n))\n",
    "print(f\"95% Confidence Interval for Life Expectancy: {confidence_interval}\")\n"
   ]
  },
  {
   "cell_type": "markdown",
   "id": "5dc05fbd-bb9a-45b5-8bc3-0194860e9847",
   "metadata": {},
   "source": [
    "REGRESSION ANALYSIS"
   ]
  },
  {
   "cell_type": "markdown",
   "id": "f9fdfb95-6260-4240-93cc-03dbe91bd2ee",
   "metadata": {},
   "source": [
    "Check for missing values, and prepare the data for analysis"
   ]
  },
  {
   "cell_type": "code",
   "execution_count": 15,
   "id": "216dc4bb-71f5-47e4-ab51-6e05c42af2b0",
   "metadata": {},
   "outputs": [
    {
     "name": "stdout",
     "output_type": "stream",
     "text": [
      "Country                              0\n",
      "Year                                 0\n",
      "Status                               0\n",
      "Life expectancy                     10\n",
      "Adult Mortality                     10\n",
      "infant deaths                        0\n",
      "Alcohol                            194\n",
      "percentage expenditure               0\n",
      "Hepatitis B                        553\n",
      "Measles                              0\n",
      " BMI                                34\n",
      "under-five deaths                    0\n",
      "Polio                               19\n",
      "Total expenditure                  226\n",
      "Diphtheria                          19\n",
      " HIV/AIDS                            0\n",
      "GDP                                448\n",
      "Population                         652\n",
      " thinness  1-19 years               34\n",
      " thinness 5-9 years                 34\n",
      "Income composition of resources    167\n",
      "Schooling                          163\n",
      "dtype: int64\n"
     ]
    }
   ],
   "source": [
    "#Check for missing values\n",
    "print(df.isnull().sum())"
   ]
  },
  {
   "cell_type": "code",
   "execution_count": 16,
   "id": "866ac0b4-9ccf-4922-9acf-126684a706e3",
   "metadata": {},
   "outputs": [],
   "source": [
    "df_clean = df[['Life expectancy ', 'GDP']].dropna()"
   ]
  },
  {
   "cell_type": "markdown",
   "id": "f41b2c6d-aa63-491b-8212-b38cc965c76f",
   "metadata": {},
   "source": [
    "Use scikit-learn to perform linear regression"
   ]
  },
  {
   "cell_type": "code",
   "execution_count": 17,
   "id": "890f0986-3e7b-47ce-9b0a-5eaaa5cb2b07",
   "metadata": {},
   "outputs": [
    {
     "name": "stdout",
     "output_type": "stream",
     "text": [
      "                            OLS Regression Results                            \n",
      "==============================================================================\n",
      "Dep. Variable:       Life expectancy    R-squared:                       0.213\n",
      "Model:                            OLS   Adj. R-squared:                  0.213\n",
      "Method:                 Least Squares   F-statistic:                     671.8\n",
      "Date:                Sat, 07 Sep 2024   Prob (F-statistic):          2.71e-131\n",
      "Time:                        23:17:21   Log-Likelihood:                -8860.4\n",
      "No. Observations:                2485   AIC:                         1.772e+04\n",
      "Df Residuals:                    2483   BIC:                         1.774e+04\n",
      "Df Model:                           1                                         \n",
      "Covariance Type:            nonrobust                                         \n",
      "==============================================================================\n",
      "                 coef    std err          t      P>|t|      [0.025      0.975]\n",
      "------------------------------------------------------------------------------\n",
      "const         67.0350      0.194    345.700      0.000      66.655      67.415\n",
      "GDP            0.0003    1.2e-05     25.919      0.000       0.000       0.000\n",
      "==============================================================================\n",
      "Omnibus:                      162.773   Durbin-Watson:                   0.381\n",
      "Prob(Omnibus):                  0.000   Jarque-Bera (JB):              195.417\n",
      "Skew:                          -0.686   Prob(JB):                     3.68e-43\n",
      "Kurtosis:                       3.055   Cond. No.                     1.82e+04\n",
      "==============================================================================\n",
      "\n",
      "Notes:\n",
      "[1] Standard Errors assume that the covariance matrix of the errors is correctly specified.\n",
      "[2] The condition number is large, 1.82e+04. This might indicate that there are\n",
      "strong multicollinearity or other numerical problems.\n"
     ]
    }
   ],
   "source": [
    "import statsmodels.api as sm\n",
    "\n",
    "# Define the independent (X) and dependent (Y) variables\n",
    "X = df_clean['GDP']\n",
    "y = df_clean['Life expectancy ']\n",
    "\n",
    "# Add a constant to the independent variable\n",
    "X = sm.add_constant(X)\n",
    "\n",
    "# Perform linear regression\n",
    "model = sm.OLS(y, X).fit()\n",
    "\n",
    "# Display the regression model summary\n",
    "print(model.summary())\n"
   ]
  },
  {
   "cell_type": "markdown",
   "id": "7cf319c1-d30e-41e4-b638-a66a3b96d987",
   "metadata": {},
   "source": [
    "VISUALIZATION"
   ]
  },
  {
   "cell_type": "markdown",
   "id": "f3f9891b-734e-44b5-8bee-cfa3eed253ad",
   "metadata": {},
   "source": [
    "Create visualizations to illustrate the relationships between variables and the regression line\n"
   ]
  },
  {
   "cell_type": "markdown",
   "id": "f5f16b5b-29d4-437b-ba72-8a5fb713f935",
   "metadata": {},
   "source": [
    "Scatter Plot with Regression Line"
   ]
  },
  {
   "cell_type": "code",
   "execution_count": 18,
   "id": "6aa6c6af-c0a7-4f86-b5fe-b36a687278e0",
   "metadata": {},
   "outputs": [
    {
     "data": {
      "image/png": "[encoded data removed]",
      "text/plain": [
       "<Figure size 640x480 with 1 Axes>"
      ]
     },
     "metadata": {},
     "output_type": "display_data"
    }
   ],
   "source": [
    "import seaborn as sns\n",
    "import matplotlib.pyplot as plt\n",
    "\n",
    "\n",
    "# Plot the regression line\n",
    "sns.regplot(x='GDP', y='Life expectancy ', data=df_clean)\n",
    "plt.xlabel(\"GDP\")\n",
    "plt.ylabel(\"Life expectancy \")\n",
    "plt.title('GDP vs Life Expectancy')\n",
    "plt.show()\n"
   ]
  }
 ],
 "metadata": {
  "kernelspec": {
   "display_name": "Python 3 (ipykernel)",
   "language": "python",
   "name": "python3"
  },
  "language_info": {
   "codemirror_mode": {
    "name": "ipython",
    "version": 3
   },
   "file_extension": ".py",
   "mimetype": "text/x-python",
   "name": "python",
   "nbconvert_exporter": "python",
   "pygments_lexer": "ipython3",
   "version": "3.12.3"
  }
 },
 "nbformat": 4,
 "nbformat_minor": 5
}
