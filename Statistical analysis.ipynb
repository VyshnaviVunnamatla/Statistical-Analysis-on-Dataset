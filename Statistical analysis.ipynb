{
 "cells": [
  {
   "cell_type": "markdown",
   "id": "65393f15-ad73-407b-8193-ddaecc89322f",
   "metadata": {},
   "source": [
    "MASTERING STATISTICAL ANALYSIS IN PYTHON WITH REAL-WORLD DATASETS"
   ]
  },
  {
   "cell_type": "markdown",
   "id": "42a43426-81df-445e-925a-5f4d61e30375",
   "metadata": {},
   "source": [
    "LOADING THE DATASET"
   ]
  },
  {
   "cell_type": "markdown",
   "id": "d4c2070d-36f9-47ea-893b-33efbe354b36",
   "metadata": {},
   "source": [
    "First, you need to load the dataset into a pandas DataFrame"
   ]
  },
  {
   "cell_type": "code",
   "execution_count": 1,
   "id": "330b14bd-1ad2-410b-a6a4-b4c64933b514",
   "metadata": {},
   "outputs": [
    {
     "name": "stdout",
     "output_type": "stream",
     "text": [
      "         Date    Asset   Price\n",
      "0  2023-07-10   Bond B  385.64\n",
      "1  2023-03-03  Stock B  297.20\n",
      "2  2023-09-13   Bond B   75.98\n",
      "3  2023-01-07   Bond B  356.34\n",
      "4  2023-06-04  Stock A  260.05\n"
     ]
    }
   ],
   "source": [
    "import pandas as pd\n",
    "\n",
    "df=pd.read_csv(\"financial_portfolio_data.csv\")\n",
    "print(df.head())"
   ]
  },
  {
   "cell_type": "markdown",
   "id": "4bee3f84-f258-4461-87a4-f7d9b7b48d79",
   "metadata": {},
   "source": [
    "PERFORMING DESCRIPTIVE STATISTICS"
   ]
  },
  {
   "cell_type": "markdown",
   "id": "3808a150-55a6-497e-8631-bc587898719e",
   "metadata": {},
   "source": [
    "Calculate the mean, median, mode, standard deviation, and variance. Let’s assume we want to perform these calculations on a feature like DelayMinutes."
   ]
  },
  {
   "cell_type": "code",
   "execution_count": 2,
   "id": "018093a2-1693-4f23-8b51-14822e43f28e",
   "metadata": {},
   "outputs": [
    {
     "name": "stdout",
     "output_type": "stream",
     "text": [
      "Mean: 281.35772\n",
      "Median: 289.12\n",
      "Mode: 108.47\n",
      "Standard Deviation: 130.97820769954814\n",
      "Variance: 17155.29089218597\n"
     ]
    }
   ],
   "source": [
    "target='Price'\n",
    "\n",
    "#basic descriptive statistics\n",
    "mean = df[target].mean()\n",
    "median = df[target].median()\n",
    "mode = df[target].mode()[0]\n",
    "std_dev = df[target].std()\n",
    "variance = df[target].var()\n",
    "\n",
    "print(f\"Mean: {mean}\")\n",
    "print(f\"Median: {median}\")\n",
    "print(f\"Mode: {mode}\")\n",
    "print(f\"Standard Deviation: {std_dev}\")\n",
    "print(f\"Variance: {variance}\")"
   ]
  },
  {
   "cell_type": "code",
   "execution_count": 3,
   "id": "4b81c572-edd7-4d21-b806-61bb734390a4",
   "metadata": {},
   "outputs": [
    {
     "name": "stdout",
     "output_type": "stream",
     "text": [
      "\n",
      "Range:\n",
      " 449.59000000000003\n",
      "\n",
      "Skewness:\n",
      " -0.10573386673057181\n",
      "\n",
      "Kurtosis:\n",
      " -1.1902319248002413\n"
     ]
    }
   ],
   "source": [
    "#additional descriptive statistics\n",
    "print(\"\\nRange:\\n\", df[target].max() - df[target].min())\n",
    "print(\"\\nSkewness:\\n\", df[target].skew())\n",
    "print(\"\\nKurtosis:\\n\", df[target].kurt())"
   ]
  },
  {
   "cell_type": "markdown",
   "id": "8f1b2267-2497-4346-9a62-e85d6d75f24d",
   "metadata": {},
   "source": [
    "PERFORMING INFERENTIAL STATISTICS"
   ]
  },
  {
   "cell_type": "markdown",
   "id": "9838ed01-2c63-4bc8-88af-04b2adfbdea0",
   "metadata": {},
   "source": [
    "To determine if the delay time is significantly different from a chosen value (e.g., 15 minutes), you can use a one-sample t-test. Here’s how you can perform the test:"
   ]
  },
  {
   "cell_type": "code",
   "execution_count": 4,
   "id": "0f068a04-0e0d-4d00-a0e2-145d03f810d0",
   "metadata": {},
   "outputs": [
    {
     "name": "stdout",
     "output_type": "stream",
     "text": [
      "T-statistic: 22.425470347186383\n",
      "P-value: 1.4849279911103598e-77\n"
     ]
    }
   ],
   "source": [
    "from scipy import stats\n",
    "\n",
    "# Hypothesized value\n",
    "hypothesized_value = 150\n",
    "\n",
    "# Perform one-sample t-test\n",
    "t_statistic, p_value = stats.ttest_1samp(df[target], hypothesized_value)\n",
    "\n",
    "print(f\"T-statistic: {t_statistic}\")\n",
    "print(f\"P-value: {p_value}\")\n"
   ]
  },
  {
   "cell_type": "markdown",
   "id": "e9739783-9a9e-4a7d-aa5f-15430d60065a",
   "metadata": {},
   "source": [
    "CONFIDENCE INTERVALS"
   ]
  },
  {
   "cell_type": "markdown",
   "id": "d766c8da-7c40-4b77-872d-265767354657",
   "metadata": {},
   "source": [
    "To compute a 95% confidence interval for the mean of the selected feature:"
   ]
  },
  {
   "cell_type": "code",
   "execution_count": 5,
   "id": "a8f4ec51-66eb-4931-83ff-aee37e20e542",
   "metadata": {},
   "outputs": [
    {
     "name": "stdout",
     "output_type": "stream",
     "text": [
      "95% Confidence Interval for the mean of Price: (269.87718486270245, 292.8382551372975)\n"
     ]
    }
   ],
   "source": [
    "import numpy as np\n",
    "\n",
    "# mean and standard error\n",
    "mean = df[target].mean()\n",
    "std_err = stats.sem(df[target])\n",
    "\n",
    "# Calculate the 95% confidence interval\n",
    "confidence_interval = stats.norm.interval(0.95, loc=mean, scale=std_err)\n",
    "\n",
    "print(f\"95% Confidence Interval for the mean of {target}: {confidence_interval}\")\n"
   ]
  },
  {
   "cell_type": "markdown",
   "id": "4aaa6ed8-72e8-4632-987c-a488e05bdbe0",
   "metadata": {},
   "source": [
    "REGRESSION ANALYSIS"
   ]
  },
  {
   "cell_type": "markdown",
   "id": "6ac45500-287c-49d2-964a-77be1d3510be",
   "metadata": {},
   "source": [
    "Check for missing values, and prepare the data for analysis"
   ]
  },
  {
   "cell_type": "code",
   "execution_count": 6,
   "id": "b90473a2-da0a-4072-a6db-cd0a68f09b4a",
   "metadata": {},
   "outputs": [
    {
     "name": "stdout",
     "output_type": "stream",
     "text": [
      "Date     0\n",
      "Asset    0\n",
      "Price    0\n",
      "dtype: int64\n"
     ]
    }
   ],
   "source": [
    "#Check for missing values\n",
    "print(df.isnull().sum())"
   ]
  },
  {
   "cell_type": "markdown",
   "id": "3af18740-e85c-4713-b777-1caed16d9b79",
   "metadata": {},
   "source": [
    "Use scikit-learn to perform linear regression"
   ]
  },
  {
   "cell_type": "code",
   "execution_count": 13,
   "id": "176f3829-4b14-43bf-bbb1-eb1861ed801f",
   "metadata": {},
   "outputs": [
    {
     "name": "stdout",
     "output_type": "stream",
     "text": [
      "                            OLS Regression Results                            \n",
      "==============================================================================\n",
      "Dep. Variable:                  Price   R-squared:                       0.001\n",
      "Model:                            OLS   Adj. R-squared:                 -0.001\n",
      "Method:                 Least Squares   F-statistic:                    0.3412\n",
      "Date:                Wed, 04 Sep 2024   Prob (F-statistic):              0.559\n",
      "Time:                        18:31:14   Log-Likelihood:                -3146.3\n",
      "No. Observations:                 500   AIC:                             6297.\n",
      "Df Residuals:                     498   BIC:                             6305.\n",
      "Df Model:                           1                                         \n",
      "Covariance Type:            nonrobust                                         \n",
      "=================================================================================\n",
      "                    coef    std err          t      P>|t|      [0.025      0.975]\n",
      "---------------------------------------------------------------------------------\n",
      "const           276.7347      9.848     28.099      0.000     257.385     296.084\n",
      "Asset_Encoded     2.5098      4.297      0.584      0.559      -5.932      10.951\n",
      "==============================================================================\n",
      "Omnibus:                      285.191   Durbin-Watson:                   2.060\n",
      "Prob(Omnibus):                  0.000   Jarque-Bera (JB):               30.126\n",
      "Skew:                          -0.103   Prob(JB):                     2.87e-07\n",
      "Kurtosis:                       1.815   Cond. No.                         4.35\n",
      "==============================================================================\n",
      "\n",
      "Notes:\n",
      "[1] Standard Errors assume that the covariance matrix of the errors is correctly specified.\n"
     ]
    }
   ],
   "source": [
    "# Perform Linear Regression\n",
    "\n",
    "from sklearn.linear_model import LinearRegression\n",
    "import statsmodels.api as sm\n",
    "from sklearn.preprocessing import LabelEncoder\n",
    "\n",
    "# Encode categorical asset names (if applicable)\n",
    "label_encoder = LabelEncoder()\n",
    "df['Asset_Encoded'] = label_encoder.fit_transform(df['Asset'])\n",
    "\n",
    "# Check and convert data types\n",
    "X = pd.to_numeric(df['Asset_Encoded'], errors='coerce').astype(float)\n",
    "y = pd.to_numeric(df['Price'], errors='coerce').astype(float)\n",
    "\n",
    "# Define the feature (independent variable) and target (dependent variable)\n",
    "X = df[['Asset_Encoded']]\n",
    "y = df['Price']\n",
    "\n",
    "# Define independent variable (add constant for intercept)\n",
    "X = sm.add_constant(X)\n",
    "\n",
    "# Fit the linear regression model \n",
    "model = sm.OLS(y, X).fit()\n",
    "\n",
    "# Print the summary of the regression model\n",
    "print(model.summary())\n"
   ]
  }
 ],
 "metadata": {
  "kernelspec": {
   "display_name": "Python 3 (ipykernel)",
   "language": "python",
   "name": "python3"
  },
  "language_info": {
   "codemirror_mode": {
    "name": "ipython",
    "version": 3
   },
   "file_extension": ".py",
   "mimetype": "text/x-python",
   "name": "python",
   "nbconvert_exporter": "python",
   "pygments_lexer": "ipython3",
   "version": "3.12.3"
  }
 },
 "nbformat": 4,
 "nbformat_minor": 5
}
